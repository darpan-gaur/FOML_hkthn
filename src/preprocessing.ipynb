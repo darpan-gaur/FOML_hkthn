{
 "cells": [
  {
   "cell_type": "code",
   "execution_count": 16,
   "metadata": {},
   "outputs": [],
   "source": [
    "import numpy as np\n",
    "import random\n",
    "\n",
    "import pandas as pd\n",
    "from scipy import stats\n",
    "\n",
    "from sklearn.ensemble import RandomForestClassifier\n",
    "from sklearn.ensemble import GradientBoostingClassifier\n",
    "from sklearn.ensemble import AdaBoostClassifier\n",
    "from sklearn.ensemble import VotingClassifier\n",
    "from sklearn.metrics import f1_score\n",
    "from sklearn.metrics import accuracy_score\n",
    "from sklearn.model_selection import GridSearchCV\n",
    "from sklearn.preprocessing import StandardScaler\n",
    "\n",
    "from xgboost import XGBClassifier\n",
    "\n",
    "from imblearn.over_sampling import SMOTE\n",
    "import collections"
   ]
  },
  {
   "cell_type": "code",
   "execution_count": 2,
   "metadata": {},
   "outputs": [],
   "source": [
    "# set seed\n",
    "seed = 42\n",
    "random.seed(seed)\n",
    "np.random.seed(seed)"
   ]
  },
  {
   "cell_type": "code",
   "execution_count": 3,
   "metadata": {},
   "outputs": [],
   "source": [
    "train_data=pd.read_csv(\"../data/train.csv\")"
   ]
  },
  {
   "cell_type": "code",
   "execution_count": 4,
   "metadata": {},
   "outputs": [],
   "source": [
    "test_data=pd.read_csv(\"../data/test.csv\")"
   ]
  },
  {
   "cell_type": "code",
   "execution_count": 5,
   "metadata": {},
   "outputs": [
    {
     "name": "stdout",
     "output_type": "stream",
     "text": [
      "                          Column  MissingCount  MissingPercentage\n",
      "0             FarmClassification        112552          99.984898\n",
      "1       PerimeterGuardPlantsArea        112525          99.960913\n",
      "2         UndergroundStorageSqft        112512          99.949364\n",
      "3                 FieldZoneLevel        112512          99.949364\n",
      "4             HarvestStorageSqft        112457          99.900505\n",
      "5                  HasGreenHouse        112305          99.765477\n",
      "6         CropFieldConfiguration        112274          99.737939\n",
      "7          FieldConstructionType        112239          99.706846\n",
      "8          CultivatedAndWildArea        112027          99.518518\n",
      "9                FieldShadeCover        111701          99.228917\n",
      "10                 ReservoirType        111477          99.029928\n",
      "11            TotalReservoirSize        111332          98.901118\n",
      "12           ReservoirWithFilter        111032          98.634615\n",
      "13                HasPestControl        109940          97.664544\n",
      "14                TaxOverdueYear        109516          97.287886\n",
      "15              TaxOverdueStatus        109516          97.287886\n",
      "16              FarmShedAreaSqft        109168          96.978742\n",
      "17                 TotalAreaSqft        108214          96.131262\n",
      "18           PrimaryCropAreaSqft        103876          92.277625\n",
      "19          PrimaryCropAreaSqft2        103876          92.277625\n",
      "20             NumberGreenHouses        100472          89.253702\n",
      "21  PartialIrrigationSystemCount         97520          86.631311\n",
      "22           NaturalLakePresence         90955          80.799332\n",
      "23           WaterReservoirCount         89405          79.422399\n",
      "24          NumberOfFarmingZones         86959          77.249509\n",
      "25        TypeOfIrrigationSystem         76133          67.632297\n",
      "26             FarmEquipmentArea         75225          66.825680\n",
      "27              FarmVehicleCount         75225          66.825680\n",
      "28               OtherZoningCode         71504          63.520152\n",
      "29            FarmingCommunityId         67885          60.305235\n",
      "30         HarvestProcessingType         41773          37.108795\n",
      "31             SoilFertilityType         40801          36.245325\n",
      "32              FarmingUnitCount         39565          35.147332\n",
      "33                 FieldSizeSqft         12309          10.934627\n",
      "34           CultivatedAreaSqft1          5521           4.904547\n",
      "35                        TownId          2257           2.004992\n",
      "36         WaterAccessPointsCalc          1193           1.059794\n",
      "37     MainIrrigationSystemCount          1193           1.059794\n",
      "38          FieldEstablishedYear           684           0.607627\n",
      "39       TotalCultivatedAreaSqft           580           0.515240\n",
      "40                    TotalValue           330           0.293154\n",
      "41              TaxAgrarianValue           330           0.293154\n",
      "42         AgricultureZoningCode           134           0.119038\n",
      "43              TotalTaxAssessed            28           0.024874\n",
      "44                  TaxLandValue            21           0.018655\n",
      "45                 ValuationYear            20           0.017767\n",
      "46            NationalRegionCode            20           0.017767\n",
      "47       StorageAndFacilityCount            20           0.017767\n",
      "48                 RawLocationId            20           0.017767\n",
      "49                     Longitude            20           0.017767\n",
      "50                      Latitude            20           0.017767\n",
      "51                 LandUsageType            20           0.017767\n",
      "52                    DistrictId            20           0.017767\n",
      "53            CropSpeciesVariety            20           0.017767\n",
      "54             WaterAccessPoints            20           0.017767\n",
      "55                           UID             0           0.000000\n",
      "56        AgriculturalPostalZone             0           0.000000\n",
      "57                        Target             0           0.000000\n"
     ]
    }
   ],
   "source": [
    "# Count missing values for each column\n",
    "missing_values = train_data.isnull().sum()\n",
    "\n",
    "# Create a DataFrame to store the count of missing values\n",
    "missing_df = pd.DataFrame({\n",
    "    'Column': missing_values.index,\n",
    "    'MissingCount': missing_values.values\n",
    "})\n",
    "\n",
    "# Add a column to show the percentage of missing values\n",
    "missing_df['MissingPercentage'] = (missing_df['MissingCount'] / len(train_data)) * 100\n",
    "\n",
    "# Sort the DataFrame by the number of missing values in descending order\n",
    "missing_df.sort_values(by='MissingCount', ascending=False, inplace=True)\n",
    "\n",
    "# Reset index for readability\n",
    "missing_df.reset_index(drop=True, inplace=True)\n",
    "\n",
    "# Display the DataFrame\n",
    "print(missing_df)"
   ]
  },
  {
   "cell_type": "code",
   "execution_count": 6,
   "metadata": {},
   "outputs": [],
   "source": [
    "null_threshold = 10"
   ]
  },
  {
   "cell_type": "code",
   "execution_count": 7,
   "metadata": {},
   "outputs": [
    {
     "name": "stdout",
     "output_type": "stream",
     "text": [
      "Updated shape of the DataFrame: (112569, 24)\n"
     ]
    }
   ],
   "source": [
    "# Drop columns with missing percentage greater than 60%\n",
    "columns_to_drop = missing_df[missing_df['MissingPercentage'] > null_threshold]['Column'].tolist()\n",
    "\n",
    "# Drop the identified columns from the DataFrame\n",
    "train_data.drop(columns=columns_to_drop, axis=1, inplace=True)\n",
    "\n",
    "# Display the updated DataFrame shape after dropping columns\n",
    "print(f\"Updated shape of the DataFrame: {train_data.shape}\")"
   ]
  },
  {
   "cell_type": "code",
   "execution_count": 8,
   "metadata": {},
   "outputs": [
    {
     "name": "stdout",
     "output_type": "stream",
     "text": [
      "Updated shape of the DataFrame: (15921, 23)\n"
     ]
    }
   ],
   "source": [
    "# drop same columns from test data\n",
    "test_data.drop(columns=columns_to_drop, axis=1, inplace=True)\n",
    "\n",
    "# Display the updated DataFrame shape after dropping columns\n",
    "print(f\"Updated shape of the DataFrame: {test_data.shape}\")"
   ]
  },
  {
   "cell_type": "code",
   "execution_count": 9,
   "metadata": {},
   "outputs": [],
   "source": [
    "# Set the 'UID' column as the index\n",
    "train_data.set_index('UID', inplace=True)\n",
    "\n",
    "# Display the updated DataFrame to confirm the change\n",
    "# print(train_data.head())"
   ]
  },
  {
   "cell_type": "code",
   "execution_count": 10,
   "metadata": {},
   "outputs": [],
   "source": [
    "# Set the 'UID' column as the index\n",
    "test_data.set_index('UID', inplace=True)\n",
    "\n",
    "# Display the updated DataFrame to confirm the change\n",
    "# print(test_data.head())"
   ]
  },
  {
   "cell_type": "code",
   "execution_count": 11,
   "metadata": {},
   "outputs": [],
   "source": [
    "# Define the mapping for 'Target' column\n",
    "target_mapping = {'low': 0, 'medium': 1, 'high': 2}\n",
    "\n",
    "# Apply the mapping to the 'Target' column\n",
    "train_labels = train_data['Target'].map(target_mapping)\n",
    "\n",
    "# Display the first few rows of the labels to verify the mapping\n",
    "# print(train_labels.head())"
   ]
  },
  {
   "cell_type": "code",
   "execution_count": 12,
   "metadata": {},
   "outputs": [],
   "source": [
    "train_data = train_data.drop(columns=['TownId','Target','DistrictId'])\n",
    "\n",
    "test_data = test_data.drop(columns=['TownId','DistrictId'])"
   ]
  },
  {
   "cell_type": "code",
   "execution_count": 13,
   "metadata": {},
   "outputs": [
    {
     "name": "stdout",
     "output_type": "stream",
     "text": [
      "Missing values after filling:\n",
      " Series([], dtype: int64)\n"
     ]
    },
    {
     "name": "stderr",
     "output_type": "stream",
     "text": [
      "/tmp/ipykernel_21679/3586585803.py:31: FutureWarning: A value is trying to be set on a copy of a DataFrame or Series through chained assignment using an inplace method.\n",
      "The behavior will change in pandas 3.0. This inplace method will never work because the intermediate object on which we are setting values always behaves as a copy.\n",
      "\n",
      "For example, when doing 'df[col].method(value, inplace=True)', try using 'df.method({col: value}, inplace=True)' or df[col] = df[col].method(value) instead, to perform the operation inplace on the original object.\n",
      "\n",
      "\n",
      "  df[column].fillna(mode_value, inplace=True)\n",
      "/tmp/ipykernel_21679/3586585803.py:31: FutureWarning: Downcasting object dtype arrays on .fillna, .ffill, .bfill is deprecated and will change in a future version. Call result.infer_objects(copy=False) instead. To opt-in to the future behavior, set `pd.set_option('future.no_silent_downcasting', True)`\n",
      "  df[column].fillna(mode_value, inplace=True)\n",
      "/tmp/ipykernel_21679/3586585803.py:42: FutureWarning: A value is trying to be set on a copy of a DataFrame or Series through chained assignment using an inplace method.\n",
      "The behavior will change in pandas 3.0. This inplace method will never work because the intermediate object on which we are setting values always behaves as a copy.\n",
      "\n",
      "For example, when doing 'df[col].method(value, inplace=True)', try using 'df.method({col: value}, inplace=True)' or df[col] = df[col].method(value) instead, to perform the operation inplace on the original object.\n",
      "\n",
      "\n",
      "  df[column].fillna(median_value, inplace=True)\n",
      "/tmp/ipykernel_21679/3586585803.py:42: FutureWarning: A value is trying to be set on a copy of a DataFrame or Series through chained assignment using an inplace method.\n",
      "The behavior will change in pandas 3.0. This inplace method will never work because the intermediate object on which we are setting values always behaves as a copy.\n",
      "\n",
      "For example, when doing 'df[col].method(value, inplace=True)', try using 'df.method({col: value}, inplace=True)' or df[col] = df[col].method(value) instead, to perform the operation inplace on the original object.\n",
      "\n",
      "\n",
      "  df[column].fillna(median_value, inplace=True)\n",
      "/tmp/ipykernel_21679/3586585803.py:42: FutureWarning: A value is trying to be set on a copy of a DataFrame or Series through chained assignment using an inplace method.\n",
      "The behavior will change in pandas 3.0. This inplace method will never work because the intermediate object on which we are setting values always behaves as a copy.\n",
      "\n",
      "For example, when doing 'df[col].method(value, inplace=True)', try using 'df.method({col: value}, inplace=True)' or df[col] = df[col].method(value) instead, to perform the operation inplace on the original object.\n",
      "\n",
      "\n",
      "  df[column].fillna(median_value, inplace=True)\n",
      "/tmp/ipykernel_21679/3586585803.py:42: FutureWarning: A value is trying to be set on a copy of a DataFrame or Series through chained assignment using an inplace method.\n",
      "The behavior will change in pandas 3.0. This inplace method will never work because the intermediate object on which we are setting values always behaves as a copy.\n",
      "\n",
      "For example, when doing 'df[col].method(value, inplace=True)', try using 'df.method({col: value}, inplace=True)' or df[col] = df[col].method(value) instead, to perform the operation inplace on the original object.\n",
      "\n",
      "\n",
      "  df[column].fillna(median_value, inplace=True)\n",
      "/tmp/ipykernel_21679/3586585803.py:42: FutureWarning: A value is trying to be set on a copy of a DataFrame or Series through chained assignment using an inplace method.\n",
      "The behavior will change in pandas 3.0. This inplace method will never work because the intermediate object on which we are setting values always behaves as a copy.\n",
      "\n",
      "For example, when doing 'df[col].method(value, inplace=True)', try using 'df.method({col: value}, inplace=True)' or df[col] = df[col].method(value) instead, to perform the operation inplace on the original object.\n",
      "\n",
      "\n",
      "  df[column].fillna(median_value, inplace=True)\n",
      "/tmp/ipykernel_21679/3586585803.py:42: FutureWarning: A value is trying to be set on a copy of a DataFrame or Series through chained assignment using an inplace method.\n",
      "The behavior will change in pandas 3.0. This inplace method will never work because the intermediate object on which we are setting values always behaves as a copy.\n",
      "\n",
      "For example, when doing 'df[col].method(value, inplace=True)', try using 'df.method({col: value}, inplace=True)' or df[col] = df[col].method(value) instead, to perform the operation inplace on the original object.\n",
      "\n",
      "\n",
      "  df[column].fillna(median_value, inplace=True)\n",
      "/tmp/ipykernel_21679/3586585803.py:42: FutureWarning: A value is trying to be set on a copy of a DataFrame or Series through chained assignment using an inplace method.\n",
      "The behavior will change in pandas 3.0. This inplace method will never work because the intermediate object on which we are setting values always behaves as a copy.\n",
      "\n",
      "For example, when doing 'df[col].method(value, inplace=True)', try using 'df.method({col: value}, inplace=True)' or df[col] = df[col].method(value) instead, to perform the operation inplace on the original object.\n",
      "\n",
      "\n",
      "  df[column].fillna(median_value, inplace=True)\n",
      "/tmp/ipykernel_21679/3586585803.py:42: FutureWarning: A value is trying to be set on a copy of a DataFrame or Series through chained assignment using an inplace method.\n",
      "The behavior will change in pandas 3.0. This inplace method will never work because the intermediate object on which we are setting values always behaves as a copy.\n",
      "\n",
      "For example, when doing 'df[col].method(value, inplace=True)', try using 'df.method({col: value}, inplace=True)' or df[col] = df[col].method(value) instead, to perform the operation inplace on the original object.\n",
      "\n",
      "\n",
      "  df[column].fillna(median_value, inplace=True)\n",
      "/tmp/ipykernel_21679/3586585803.py:42: FutureWarning: A value is trying to be set on a copy of a DataFrame or Series through chained assignment using an inplace method.\n",
      "The behavior will change in pandas 3.0. This inplace method will never work because the intermediate object on which we are setting values always behaves as a copy.\n",
      "\n",
      "For example, when doing 'df[col].method(value, inplace=True)', try using 'df.method({col: value}, inplace=True)' or df[col] = df[col].method(value) instead, to perform the operation inplace on the original object.\n",
      "\n",
      "\n",
      "  df[column].fillna(median_value, inplace=True)\n",
      "/tmp/ipykernel_21679/3586585803.py:49: FutureWarning: A value is trying to be set on a copy of a DataFrame or Series through chained assignment using an inplace method.\n",
      "The behavior will change in pandas 3.0. This inplace method will never work because the intermediate object on which we are setting values always behaves as a copy.\n",
      "\n",
      "For example, when doing 'df[col].method(value, inplace=True)', try using 'df.method({col: value}, inplace=True)' or df[col] = df[col].method(value) instead, to perform the operation inplace on the original object.\n",
      "\n",
      "\n",
      "  df[column].fillna(mean_value, inplace=True)\n"
     ]
    }
   ],
   "source": [
    "def fill_missing_values(df):\n",
    "    # Define the columns based on their type\n",
    "    categorical_columns = [\n",
    "        'HarvestProcessingType', 'SoilFertilityType', 'AgricultureZoningCode',\n",
    "        'ValuationYear', 'NationalRegionCode', 'StorageAndFacilityCount', 'RawLocationId',\n",
    "        'LandUsageType', 'CropSpeciesVariety', 'AgriculturalPostalZone'\n",
    "    ]\n",
    "    \n",
    "    median_columns = [\n",
    "        'FarmingUnitCount', 'FieldSizeSqft', 'CultivatedAreaSqft1', 'MainIrrigationSystemCount',\n",
    "        'FieldEstablishedYear', 'TotalTaxAssessed', 'TaxLandValue', 'TotalCultivatedAreaSqft',\n",
    "        'WaterAccessPoints', 'TaxAgrarianValue', 'TotalValue'\n",
    "    ]\n",
    "    \n",
    "    mean_columns = [\n",
    "        'WaterAccessPointsCalc', 'Longitude', 'Latitude'\n",
    "    ]\n",
    "    \n",
    "    # Convert categorical columns to 'object' type if necessary\n",
    "    for column in categorical_columns:\n",
    "        if column in df.columns:\n",
    "            df[column] = df[column].astype('object')\n",
    "\n",
    "    # Fill missing values for categorical columns using mode\n",
    "    for column in categorical_columns:\n",
    "        if column in df.columns:\n",
    "            if df[column].isnull().sum() > 0:\n",
    "                try:\n",
    "                    mode_value = df[column].mode(dropna=True)[0] if not df[column].mode().empty else None\n",
    "                    if mode_value is not None:\n",
    "                        df[column].fillna(mode_value, inplace=True)\n",
    "                    else:\n",
    "                        print(f\"Warning: Could not find a mode for column {column}\")\n",
    "                except Exception as e:\n",
    "                    print(f\"Error while filling mode for column {column}: {e}\")\n",
    "    \n",
    "    # Fill missing values for numerical columns using median\n",
    "    for column in median_columns:\n",
    "        if column in df.columns and df[column].dtype in ['int64', 'float64']:\n",
    "            if df[column].isnull().sum() > 0:\n",
    "                median_value = df[column].median()\n",
    "                df[column].fillna(median_value, inplace=True)\n",
    "    \n",
    "    # Fill missing values for numerical columns using mean\n",
    "    for column in mean_columns:\n",
    "        if column in df.columns and df[column].dtype in ['int64', 'float64']:\n",
    "            if df[column].isnull().sum() > 0:\n",
    "                mean_value = df[column].mean()\n",
    "                df[column].fillna(mean_value, inplace=True)\n",
    "    \n",
    "    return df\n",
    "\n",
    "# Fill missing values in the training data\n",
    "train_data = fill_missing_values(train_data)\n",
    "\n",
    "# Check if there are still missing values\n",
    "missing_values = train_data.isnull().sum()\n",
    "print(\"Missing values after filling:\\n\", missing_values[missing_values > 0])\n"
   ]
  },
  {
   "cell_type": "code",
   "execution_count": 14,
   "metadata": {},
   "outputs": [
    {
     "name": "stderr",
     "output_type": "stream",
     "text": [
      "/tmp/ipykernel_21679/3586585803.py:31: FutureWarning: A value is trying to be set on a copy of a DataFrame or Series through chained assignment using an inplace method.\n",
      "The behavior will change in pandas 3.0. This inplace method will never work because the intermediate object on which we are setting values always behaves as a copy.\n",
      "\n",
      "For example, when doing 'df[col].method(value, inplace=True)', try using 'df.method({col: value}, inplace=True)' or df[col] = df[col].method(value) instead, to perform the operation inplace on the original object.\n",
      "\n",
      "\n",
      "  df[column].fillna(mode_value, inplace=True)\n",
      "/tmp/ipykernel_21679/3586585803.py:31: FutureWarning: Downcasting object dtype arrays on .fillna, .ffill, .bfill is deprecated and will change in a future version. Call result.infer_objects(copy=False) instead. To opt-in to the future behavior, set `pd.set_option('future.no_silent_downcasting', True)`\n",
      "  df[column].fillna(mode_value, inplace=True)\n",
      "/tmp/ipykernel_21679/3586585803.py:42: FutureWarning: A value is trying to be set on a copy of a DataFrame or Series through chained assignment using an inplace method.\n",
      "The behavior will change in pandas 3.0. This inplace method will never work because the intermediate object on which we are setting values always behaves as a copy.\n",
      "\n",
      "For example, when doing 'df[col].method(value, inplace=True)', try using 'df.method({col: value}, inplace=True)' or df[col] = df[col].method(value) instead, to perform the operation inplace on the original object.\n",
      "\n",
      "\n",
      "  df[column].fillna(median_value, inplace=True)\n",
      "/tmp/ipykernel_21679/3586585803.py:42: FutureWarning: A value is trying to be set on a copy of a DataFrame or Series through chained assignment using an inplace method.\n",
      "The behavior will change in pandas 3.0. This inplace method will never work because the intermediate object on which we are setting values always behaves as a copy.\n",
      "\n",
      "For example, when doing 'df[col].method(value, inplace=True)', try using 'df.method({col: value}, inplace=True)' or df[col] = df[col].method(value) instead, to perform the operation inplace on the original object.\n",
      "\n",
      "\n",
      "  df[column].fillna(median_value, inplace=True)\n",
      "/tmp/ipykernel_21679/3586585803.py:42: FutureWarning: A value is trying to be set on a copy of a DataFrame or Series through chained assignment using an inplace method.\n",
      "The behavior will change in pandas 3.0. This inplace method will never work because the intermediate object on which we are setting values always behaves as a copy.\n",
      "\n",
      "For example, when doing 'df[col].method(value, inplace=True)', try using 'df.method({col: value}, inplace=True)' or df[col] = df[col].method(value) instead, to perform the operation inplace on the original object.\n",
      "\n",
      "\n",
      "  df[column].fillna(median_value, inplace=True)\n",
      "/tmp/ipykernel_21679/3586585803.py:42: FutureWarning: A value is trying to be set on a copy of a DataFrame or Series through chained assignment using an inplace method.\n",
      "The behavior will change in pandas 3.0. This inplace method will never work because the intermediate object on which we are setting values always behaves as a copy.\n",
      "\n",
      "For example, when doing 'df[col].method(value, inplace=True)', try using 'df.method({col: value}, inplace=True)' or df[col] = df[col].method(value) instead, to perform the operation inplace on the original object.\n",
      "\n",
      "\n",
      "  df[column].fillna(median_value, inplace=True)\n",
      "/tmp/ipykernel_21679/3586585803.py:42: FutureWarning: A value is trying to be set on a copy of a DataFrame or Series through chained assignment using an inplace method.\n",
      "The behavior will change in pandas 3.0. This inplace method will never work because the intermediate object on which we are setting values always behaves as a copy.\n",
      "\n",
      "For example, when doing 'df[col].method(value, inplace=True)', try using 'df.method({col: value}, inplace=True)' or df[col] = df[col].method(value) instead, to perform the operation inplace on the original object.\n",
      "\n",
      "\n",
      "  df[column].fillna(median_value, inplace=True)\n",
      "/tmp/ipykernel_21679/3586585803.py:42: FutureWarning: A value is trying to be set on a copy of a DataFrame or Series through chained assignment using an inplace method.\n",
      "The behavior will change in pandas 3.0. This inplace method will never work because the intermediate object on which we are setting values always behaves as a copy.\n",
      "\n",
      "For example, when doing 'df[col].method(value, inplace=True)', try using 'df.method({col: value}, inplace=True)' or df[col] = df[col].method(value) instead, to perform the operation inplace on the original object.\n",
      "\n",
      "\n",
      "  df[column].fillna(median_value, inplace=True)\n",
      "/tmp/ipykernel_21679/3586585803.py:42: FutureWarning: A value is trying to be set on a copy of a DataFrame or Series through chained assignment using an inplace method.\n",
      "The behavior will change in pandas 3.0. This inplace method will never work because the intermediate object on which we are setting values always behaves as a copy.\n",
      "\n",
      "For example, when doing 'df[col].method(value, inplace=True)', try using 'df.method({col: value}, inplace=True)' or df[col] = df[col].method(value) instead, to perform the operation inplace on the original object.\n",
      "\n",
      "\n",
      "  df[column].fillna(median_value, inplace=True)\n",
      "/tmp/ipykernel_21679/3586585803.py:42: FutureWarning: A value is trying to be set on a copy of a DataFrame or Series through chained assignment using an inplace method.\n",
      "The behavior will change in pandas 3.0. This inplace method will never work because the intermediate object on which we are setting values always behaves as a copy.\n",
      "\n",
      "For example, when doing 'df[col].method(value, inplace=True)', try using 'df.method({col: value}, inplace=True)' or df[col] = df[col].method(value) instead, to perform the operation inplace on the original object.\n",
      "\n",
      "\n",
      "  df[column].fillna(median_value, inplace=True)\n",
      "/tmp/ipykernel_21679/3586585803.py:42: FutureWarning: A value is trying to be set on a copy of a DataFrame or Series through chained assignment using an inplace method.\n",
      "The behavior will change in pandas 3.0. This inplace method will never work because the intermediate object on which we are setting values always behaves as a copy.\n",
      "\n",
      "For example, when doing 'df[col].method(value, inplace=True)', try using 'df.method({col: value}, inplace=True)' or df[col] = df[col].method(value) instead, to perform the operation inplace on the original object.\n",
      "\n",
      "\n",
      "  df[column].fillna(median_value, inplace=True)\n",
      "/tmp/ipykernel_21679/3586585803.py:49: FutureWarning: A value is trying to be set on a copy of a DataFrame or Series through chained assignment using an inplace method.\n",
      "The behavior will change in pandas 3.0. This inplace method will never work because the intermediate object on which we are setting values always behaves as a copy.\n",
      "\n",
      "For example, when doing 'df[col].method(value, inplace=True)', try using 'df.method({col: value}, inplace=True)' or df[col] = df[col].method(value) instead, to perform the operation inplace on the original object.\n",
      "\n",
      "\n",
      "  df[column].fillna(mean_value, inplace=True)\n"
     ]
    }
   ],
   "source": [
    "# fill missing values in test data\n",
    "test_data = fill_missing_values(test_data)\n",
    "\n",
    "# Check if there are still missing values\n",
    "missing_values = test_data.isnull().sum()"
   ]
  },
  {
   "cell_type": "code",
   "execution_count": 15,
   "metadata": {},
   "outputs": [],
   "source": [
    "# convert Agriculturepostalzone to int\n",
    "train_data['AgriculturalPostalZone'] = train_data['AgriculturalPostalZone'].astype(float)\n",
    "test_data['AgriculturalPostalZone'] = test_data['AgriculturalPostalZone'].astype(float)"
   ]
  },
  {
   "cell_type": "code",
   "execution_count": 17,
   "metadata": {},
   "outputs": [
    {
     "name": "stdout",
     "output_type": "stream",
     "text": [
      "Before SMOTE: Counter({1: 67541, 2: 22514, 0: 22514})\n",
      "After SMOTE: Counter({2: 67541, 1: 67541, 0: 67541})\n"
     ]
    }
   ],
   "source": [
    "# sampling imbalance class with SMOTE \n",
    "\n",
    "counter = collections.Counter(train_labels)\n",
    "print(f\"Before SMOTE: {counter}\")\n",
    "smote = SMOTE(sampling_strategy='auto', random_state=seed)\n",
    "\n",
    "train_data, train_labels = smote.fit_resample(train_data, train_labels)\n",
    "counter = collections.Counter(train_labels)\n",
    "print(f\"After SMOTE: {counter}\")\n"
   ]
  },
  {
   "cell_type": "code",
   "execution_count": 18,
   "metadata": {},
   "outputs": [],
   "source": [
    "# Standardize the features before training\n",
    "scaler = StandardScaler()\n",
    "train_data = pd.DataFrame(scaler.fit_transform(train_data), columns=train_data.columns, index=train_data.index)\n",
    "test_data = pd.DataFrame(scaler.transform(test_data), columns=test_data.columns, index=test_data.index)"
   ]
  },
  {
   "cell_type": "code",
   "execution_count": 19,
   "metadata": {},
   "outputs": [],
   "source": [
    "# save preprocessed data\n",
    "train_data['UID'] = train_data.index\n",
    "train_data['Target'] = train_labels\n",
    "\n",
    "# map target back to original values\n",
    "target_mapping = {0: 'low', 1: 'medium', 2: 'high'}\n",
    "train_data['Target'] = train_data['Target'].map(target_mapping)\n",
    "\n",
    "train_data.to_csv(\"../data/preprocessed_train_smote.csv\", index=False)\n",
    "\n",
    "test_data['UID'] = test_data.index\n",
    "test_data.to_csv(\"../data/preprocessed_test_smote.csv\", index=False)"
   ]
  },
  {
   "cell_type": "code",
   "execution_count": null,
   "metadata": {},
   "outputs": [],
   "source": []
  }
 ],
 "metadata": {
  "kernelspec": {
   "display_name": "test",
   "language": "python",
   "name": "python3"
  },
  "language_info": {
   "codemirror_mode": {
    "name": "ipython",
    "version": 3
   },
   "file_extension": ".py",
   "mimetype": "text/x-python",
   "name": "python",
   "nbconvert_exporter": "python",
   "pygments_lexer": "ipython3",
   "version": "3.11.4"
  }
 },
 "nbformat": 4,
 "nbformat_minor": 2
}
